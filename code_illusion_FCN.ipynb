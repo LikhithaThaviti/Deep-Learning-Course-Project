{
 "cells": [
  {
   "cell_type": "code",
   "execution_count": 97,
   "metadata": {},
   "outputs": [],
   "source": [
    "import numpy as np\n",
    "import os\n",
    "import zipfile\n",
    "import pandas as pd\n",
    "from sklearn.model_selection import train_test_split\n",
    "from tensorflow.keras.preprocessing.image import ImageDataGenerator, img_to_array, load_img\n",
    "import matplotlib.pyplot as plt\n",
    "import numpy as np\n",
    "import tensorflow as tf\n",
    "from tensorflow.keras.losses import BinaryCrossentropy\n",
    "from sklearn.decomposition import PCA\n",
    "from sklearn.svm import SVC\n"
   ]
  },
  {
   "cell_type": "code",
   "execution_count": 98,
   "metadata": {},
   "outputs": [],
   "source": [
    "# Step 1: Extract images from ZIP file\n",
    "zip_file_path = 'images.zip'  # Change this to your actual ZIP file path\n",
    "extract_folder = 'extracted_images'\n",
    "with zipfile.ZipFile(zip_file_path, 'r') as zip_ref:\n",
    "    zip_ref.extractall(extract_folder)"
   ]
  },
  {
   "cell_type": "code",
   "execution_count": 133,
   "metadata": {},
   "outputs": [],
   "source": [
    "# Check the contents of the extracted directory\n",
    "images_dir = os.path.join(extract_folder, 'images')  # Adjust the path to your images folder\n",
    "#print(\"Contents of extracted images directory:\", os.listdir(images_dir))"
   ]
  },
  {
   "cell_type": "code",
   "execution_count": 135,
   "metadata": {},
   "outputs": [],
   "source": [
    "# Step 2: Create a function to generate the label dictionary\n",
    "def create_label_dict(images_dir):\n",
    "    label_dict = {}\n",
    "    for filename in os.listdir(images_dir):\n",
    "        #print(\"Processing file:\", filename)  # Debugging line\n",
    "        if filename.endswith(('.jpg', '.jpeg', '.png', '.bmp')):  # Check file extension\n",
    "            if '_r' in filename:\n",
    "                label_dict[filename] = 0  # No illusion\n",
    "            elif '_y-flip_r' in filename or '_x-flip_r' in filename:\n",
    "                label_dict[filename] = 0  # No illusion but flipped\n",
    "            elif filename.endswith('.jpg') and not ('_r' in filename or '_flip' in filename):\n",
    "                label_dict[filename] = 1  # Illusion\n",
    "            elif '_y-flip' in filename or '_x-flip' in filename:\n",
    "                label_dict[filename] = 1  # Flipped illusion\n",
    "            else:\n",
    "                print(f\"Unmatched condition for: {filename}\")  # Debugging unmatched files\n",
    "    return label_dict"
   ]
  },
  {
   "cell_type": "code",
   "execution_count": 138,
   "metadata": {},
   "outputs": [
    {
     "name": "stdout",
     "output_type": "stream",
     "text": [
      "Training data: 142\n",
      "Validation data: 31\n",
      "Testing data: 31\n"
     ]
    }
   ],
   "source": [
    "# Step 3: Generate the label dictionary\n",
    "label_dict = create_label_dict(images_dir);\n",
    "#print(\"Label dictionary created:\", label_dict)\n",
    "\n",
    "# Prepare data for training, validation, and testing\n",
    "data = [(filename, label) for filename, label in label_dict.items()];\n",
    "\n",
    "# Shuffle and split the dataset into training, validation, and test sets\n",
    "train_data, temp_data = train_test_split(data, test_size=0.3, random_state=31)  # 70% train, 30% temp\n",
    "val_data, test_data = train_test_split(temp_data, test_size=0.5, random_state=31)  # 15% val, 15% test\n",
    "\n",
    "# Output the sizes of the datasets\n",
    "print(\"Training data:\", len(train_data))\n",
    "print(\"Validation data:\", len(val_data))\n",
    "print(\"Testing data:\", len(test_data))"
   ]
  },
  {
   "cell_type": "code",
   "execution_count": 102,
   "metadata": {},
   "outputs": [],
   "source": [
    "# Step 4: Preprocess images and flatten them\n",
    "def preprocess_images(data, images_dir, target_size=(150, 150)):\n",
    "    images = []\n",
    "    labels = []\n",
    "    filenames = []\n",
    "    for filename, label in data:\n",
    "        img_path = os.path.join(images_dir, filename)\n",
    "        img = load_img(img_path, target_size=target_size)\n",
    "        img_array = img_to_array(img)\n",
    "        img_array = img_array.flatten() / 255.0  # Flatten and normalize\n",
    "        images.append(img_array)\n",
    "        labels.append(label)\n",
    "        filenames.append(filename)\n",
    "    return np.array(images), np.array(labels), filenames\n",
    "\n",
    "X_train, y_train, train_filenames = preprocess_images(train_data, images_dir)\n",
    "X_val, y_val, val_filenames = preprocess_images(val_data, images_dir)\n",
    "X_test, y_test, test_filenames = preprocess_images(test_data, images_dir)\n"
   ]
  },
  {
   "cell_type": "code",
   "execution_count": 103,
   "metadata": {},
   "outputs": [],
   "source": [
    "# Step 5: Apply PCA for dimensionality reduction\n",
    "pca = PCA(n_components=50)  # Adjust the number of components as needed\n",
    "X_train_pca = pca.fit_transform(X_train)\n",
    "X_val_pca = pca.transform(X_val)\n",
    "X_test_pca = pca.transform(X_test)\n"
   ]
  },
  {
   "cell_type": "code",
   "execution_count": 104,
   "metadata": {},
   "outputs": [],
   "source": [
    "# Step 6: Build FCN model\n",
    "from tensorflow.keras.models import Sequential\n",
    "from tensorflow.keras.layers import Dense, Dropout, BatchNormalization\n",
    "from tensorflow.keras.optimizers import Adam\n",
    "\n",
    "# Define the FCN architecture\n",
    "def create_fcn_model(input_shape=(150, 150, 3)):\n",
    "    model = Sequential([\n",
    "        Dense(1024, activation='relu', input_shape=(input_shape,)),                  # Fully connected layer\n",
    "        BatchNormalization(),\n",
    "        Dropout(0.5),                                   # Dropout for regularization\n",
    "        Dense(512, activation='relu'),\n",
    "        BatchNormalization(),\n",
    "        Dropout(0.5),\n",
    "        Dense(256, activation='relu'),\n",
    "        BatchNormalization(),\n",
    "        Dropout(0.5),\n",
    "        Dense(128, activation='relu'),\n",
    "        BatchNormalization(),\n",
    "        Dropout(0.5),\n",
    "        Dense(64, activation='relu'),\n",
    "        Dense(32, activation='relu'),\n",
    "        BatchNormalization(),\n",
    "        Dropout(0.5),\n",
    "        Dense(1, activation='sigmoid')                  # Sigmoid output layer for binary classification\n",
    "    ])\n",
    "    return model\n",
    "\n",
    "# Instantiate the model\n",
    "model = create_fcn_model(input_shape=X_train_pca.shape[1])"
   ]
  },
  {
   "cell_type": "code",
   "execution_count": 126,
   "metadata": {},
   "outputs": [
    {
     "name": "stdout",
     "output_type": "stream",
     "text": [
      "Epoch 1/20\n",
      "5/5 [==============================] - 2s 55ms/step - loss: 0.4136 - accuracy: 0.7887 - val_loss: 0.6678 - val_accuracy: 0.7419\n",
      "Epoch 2/20\n",
      "5/5 [==============================] - 0s 15ms/step - loss: 0.5378 - accuracy: 0.7324 - val_loss: 0.6496 - val_accuracy: 0.7419\n",
      "Epoch 3/20\n",
      "5/5 [==============================] - 0s 15ms/step - loss: 0.4735 - accuracy: 0.7465 - val_loss: 0.6432 - val_accuracy: 0.7419\n",
      "Epoch 4/20\n",
      "5/5 [==============================] - 0s 14ms/step - loss: 0.3902 - accuracy: 0.8028 - val_loss: 0.6386 - val_accuracy: 0.7419\n",
      "Epoch 5/20\n",
      "5/5 [==============================] - 0s 15ms/step - loss: 0.4542 - accuracy: 0.7746 - val_loss: 0.6343 - val_accuracy: 0.7419\n",
      "Epoch 6/20\n",
      "5/5 [==============================] - 0s 15ms/step - loss: 0.3802 - accuracy: 0.7817 - val_loss: 0.6364 - val_accuracy: 0.7419\n",
      "Epoch 7/20\n",
      "5/5 [==============================] - 0s 15ms/step - loss: 0.4897 - accuracy: 0.8028 - val_loss: 0.6290 - val_accuracy: 0.7419\n",
      "Epoch 8/20\n",
      "5/5 [==============================] - 0s 15ms/step - loss: 0.4765 - accuracy: 0.8028 - val_loss: 0.6194 - val_accuracy: 0.7419\n",
      "Epoch 9/20\n",
      "5/5 [==============================] - 0s 16ms/step - loss: 0.5907 - accuracy: 0.7606 - val_loss: 0.6095 - val_accuracy: 0.7419\n",
      "Epoch 10/20\n",
      "5/5 [==============================] - 0s 17ms/step - loss: 0.4257 - accuracy: 0.8239 - val_loss: 0.6050 - val_accuracy: 0.7419\n",
      "Epoch 11/20\n",
      "5/5 [==============================] - 0s 18ms/step - loss: 0.3619 - accuracy: 0.8239 - val_loss: 0.6024 - val_accuracy: 0.7419\n",
      "Epoch 12/20\n",
      "5/5 [==============================] - 0s 18ms/step - loss: 0.4995 - accuracy: 0.8028 - val_loss: 0.6002 - val_accuracy: 0.7419\n",
      "Epoch 13/20\n",
      "5/5 [==============================] - 0s 18ms/step - loss: 0.4596 - accuracy: 0.8028 - val_loss: 0.6006 - val_accuracy: 0.7419\n",
      "Epoch 14/20\n",
      "5/5 [==============================] - 0s 20ms/step - loss: 0.4001 - accuracy: 0.8380 - val_loss: 0.6038 - val_accuracy: 0.7419\n",
      "Epoch 15/20\n",
      "5/5 [==============================] - 0s 17ms/step - loss: 0.3321 - accuracy: 0.8451 - val_loss: 0.6081 - val_accuracy: 0.7419\n",
      "Epoch 16/20\n",
      "5/5 [==============================] - 0s 17ms/step - loss: 0.4062 - accuracy: 0.8169 - val_loss: 0.6074 - val_accuracy: 0.7419\n",
      "Epoch 17/20\n",
      "5/5 [==============================] - 0s 17ms/step - loss: 0.3832 - accuracy: 0.8380 - val_loss: 0.6105 - val_accuracy: 0.7419\n",
      "Epoch 18/20\n",
      "5/5 [==============================] - 0s 18ms/step - loss: 0.3788 - accuracy: 0.8310 - val_loss: 0.6153 - val_accuracy: 0.7419\n",
      "Epoch 19/20\n",
      "5/5 [==============================] - 0s 16ms/step - loss: 0.3503 - accuracy: 0.8380 - val_loss: 0.6179 - val_accuracy: 0.7419\n",
      "Epoch 20/20\n",
      "5/5 [==============================] - 0s 15ms/step - loss: 0.3891 - accuracy: 0.8380 - val_loss: 0.6193 - val_accuracy: 0.7419\n"
     ]
    }
   ],
   "source": [
    "# Step 7: Compile and run FCN model\n",
    "model.compile(\n",
    "    optimizer=Adam(learning_rate=1e-4),\n",
    "    loss='binary_crossentropy',\n",
    "    metrics=['accuracy']\n",
    ")\n",
    "\n",
    "history = model.fit(X_train_pca, y_train, validation_data=(X_val_pca, y_val), epochs=20, batch_size=32)"
   ]
  },
  {
   "cell_type": "code",
   "execution_count": 127,
   "metadata": {},
   "outputs": [
    {
     "name": "stdout",
     "output_type": "stream",
     "text": [
      "1/1 [==============================] - 0s 106ms/step\n",
      "Test Accuracy: 0.8064516129032258\n",
      "Confusion Matrix:\n",
      " [[12  2]\n",
      " [ 4 13]]\n"
     ]
    }
   ],
   "source": [
    "# Step 8: Metrics\n",
    "\n",
    "from sklearn.metrics import confusion_matrix, classification_report, accuracy_score\n",
    "y_pred = (model.predict(X_test_pca) > 0.5).astype(\"int32\")\n",
    "conf_matrix = confusion_matrix(y_test, y_pred)\n",
    "accuracy = accuracy_score(y_test, y_pred)\n",
    "\n",
    "print(\"Test Accuracy:\", accuracy)\n",
    "print(\"Confusion Matrix:\\n\", conf_matrix)"
   ]
  },
  {
   "cell_type": "code",
   "execution_count": 128,
   "metadata": {},
   "outputs": [
    {
     "name": "stdout",
     "output_type": "stream",
     "text": [
      "              precision    recall  f1-score   support\n",
      "\n",
      "Non-Illusion       0.75      0.86      0.80        14\n",
      "    Illusion       0.87      0.76      0.81        17\n",
      "\n",
      "    accuracy                           0.81        31\n",
      "   macro avg       0.81      0.81      0.81        31\n",
      "weighted avg       0.81      0.81      0.81        31\n",
      "\n"
     ]
    }
   ],
   "source": [
    "print(classification_report(y_test, y_pred, target_names=['Non-Illusion', 'Illusion']))"
   ]
  },
  {
   "cell_type": "code",
   "execution_count": 129,
   "metadata": {},
   "outputs": [
    {
     "data": {
      "image/png": "[encoded data removed]",
      "text/plain": [
       "<Figure size 600x600 with 2 Axes>"
      ]
     },
     "metadata": {},
     "output_type": "display_data"
    }
   ],
   "source": [
    "import seaborn as sns\n",
    "\n",
    "\n",
    "def plot_confusion_matrix(cm, model_name, cmap):\n",
    "    plt.figure(figsize=(6, 6))\n",
    "    sns.heatmap(cm, annot=True, fmt=\"d\", cmap=cmap, xticklabels=[\"No Illusion\", \"Illusion\"], yticklabels=[\"No Illusion\", \"Illusion\"])\n",
    "    plt.title(f\"Confusion Matrix - {model_name}\")\n",
    "    plt.xlabel(\"Predicted\")\n",
    "    plt.ylabel(\"Actual\")\n",
    "    plt.show()\n",
    "plot_confusion_matrix(conf_matrix, \"FCN\", cmap=\"Reds\")"
   ]
  }
 ],
 "metadata": {
  "kernelspec": {
   "display_name": "base",
   "language": "python",
   "name": "python3"
  },
  "language_info": {
   "codemirror_mode": {
    "name": "ipython",
    "version": 3
   },
   "file_extension": ".py",
   "mimetype": "text/x-python",
   "name": "python",
   "nbconvert_exporter": "python",
   "pygments_lexer": "ipython3",
   "version": "3.10.9"
  }
 },
 "nbformat": 4,
 "nbformat_minor": 2
}
