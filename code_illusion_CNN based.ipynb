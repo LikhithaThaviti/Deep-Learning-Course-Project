{
 "cells": [
  {
   "cell_type": "code",
   "execution_count": 1,
   "metadata": {},
   "outputs": [],
   "source": [
    "import numpy as np\n",
    "import os\n",
    "import zipfile\n",
    "import pandas as pd\n",
    "from sklearn.model_selection import train_test_split\n",
    "from tensorflow.keras.preprocessing.image import ImageDataGenerator\n",
    "from tensorflow.keras.models import Sequential\n",
    "from tensorflow.keras.layers import Flatten, Dense, Dropout, GlobalAveragePooling2D\n",
    "from tensorflow.keras.optimizers import Adam\n",
    "from tensorflow.keras.applications import VGG16, ResNet50, InceptionV3\n",
    "import matplotlib.pyplot as plt\n",
    "import numpy as np\n",
    "import tensorflow as tf\n",
    "from tensorflow.keras.losses import BinaryCrossentropy"
   ]
  },
  {
   "cell_type": "code",
   "execution_count": 2,
   "metadata": {},
   "outputs": [],
   "source": [
    "# Step 1: Extract images from ZIP file\n",
    "zip_file_path = 'images.zip'  # Change this to your actual ZIP file path\n",
    "extract_folder = 'extracted_images'\n",
    "with zipfile.ZipFile(zip_file_path, 'r') as zip_ref:\n",
    "    zip_ref.extractall(extract_folder)\n"
   ]
  },
  {
   "cell_type": "code",
   "execution_count": 3,
   "metadata": {},
   "outputs": [
    {
     "name": "stdout",
     "output_type": "stream",
     "text": [
      "Contents of extracted images directory: ['01_01.jpg', '01_01_r.jpg', '01_01_y-flip.jpg', '01_01_y-flip_r.jpg', '01_02.jpg', '01_02_r.jpg', '01_02_y-flip.jpg', '01_02_y-flip_r.jpg', '01_03.jpg', '01_03_r.jpg', '01_03_y-flip.jpg', '01_03_y-flip_r.jpg', '01_04.jpg', '01_04_r.jpg', '01_04_y-flip.jpg', '01_04_y-flip_r.jpg', '02_01.jpg', '02_01_r.jpg', '02_01_y-flip.jpg', '02_01_y-flip_r.jpg', '02_02.jpg', '02_02_r.jpg', '02_02_y-flip.jpg', '02_02_y-flip_r.jpg', '03_01.jpg', '03_01_r.jpg', '03_01_x-flip.jpg', '03_01_x-flip_r.jpg', '03_02.jpg', '03_02_r.jpg', '03_02_x-flip.jpg', '03_02_x-flip_r.jpg', '03_03.jpg', '03_03_r.jpg', '03_03_x-flip.jpg', '03_03_x-flip_r.jpg', '03_04.jpg', '03_04_r.jpg', '03_04_x-flip.jpg', '03_04_x-flip_r.jpg', '03_05.jpg', '03_05_r.jpg', '03_05_x-flip.jpg', '03_05_x-flip_r.jpg', '03_06.jpg', '03_06_r.jpg', '03_06_x-flip.jpg', '03_06_x-flip_r.jpg', '04_01.jpg', '04_01_r.jpg', '04_01_y-flip.jpg', '04_01_y-flip_r.jpg', '04_02.jpg', '04_02_r.jpg', '04_02_y-flip.jpg', '04_02_y-flip_r.jpg', '04_03.jpg', '04_03_r.jpg', '04_03_y-flip.jpg', '04_03_y-flip_r.jpg', '04_04.jpg', '04_04_r.jpg', '04_04_y-flip.jpg', '04_04_y-flip_r.jpg', '04_05.jpg', '04_05_r.jpg', '04_05_y-flip.jpg', '04_05_y-flip_r.jpg', '04_06.jpg', '04_06_r.jpg', '04_06_y-flip.jpg', '04_06_y-flip_r.jpg', '04_07.jpg', '04_07_r.jpg', '04_07_y-flip.jpg', '04_07_y-flip_r.jpg', '05_01.jpg', '05_01_r.jpg', '05_01_s-flip.jpg', '05_01_s-flip_r.jpg', '05_02.jpg', '05_02_r.jpg', '05_02_s-flip.jpg', '05_02_s-flip_r.jpg', '06_01.jpg', '06_01_r.jpg', '06_01_y-flip.jpg', '06_01_y-flip_r.jpg', '06_02.jpg', '06_02_r.jpg', '06_02_y-flip.jpg', '06_02_y-flip_r.jpg', '06_03.jpg', '06_03_r.jpg', '06_03_y-flip.jpg', '06_03_y-flip_r.jpg', '07_01.jpg', '07_01_r.jpg', '07_01_y-flip.jpg', '07_01_y-flip_r.jpg', '07_02.jpg', '07_02_r.jpg', '07_02_y-flip.jpg', '07_02_y-flip_r.jpg', '07_03.jpg', '07_03_r.jpg', '07_03_y-flip.jpg', '07_03_y-flip_r.jpg', '07_04.jpg', '07_04_r.jpg', '07_04_y-flip.jpg', '07_04_y-flip_r.jpg', '08_01.jpg', '08_01_r.jpg', '08_01_y-flip.jpg', '08_01_y-flip_r.jpg', '08_02.jpg', '08_02_r.jpg', '08_02_y-flip.jpg', '08_02_y-flip_r.jpg', '08_03.jpg', '08_03_r.jpg', '08_03_y-flip.jpg', '08_03_y-flip_r.jpg', '08_04.jpg', '08_04_r.jpg', '08_04_y-flip.jpg', '08_04_y-flip_r.jpg', '09_01.jpg', '09_01_r.jpg', '09_01_x-flip.jpg', '09_01_x-flip_r.jpg', '10_01.jpg', '10_01_r.jpg', '10_01_y-flip.jpg', '10_01_y-flip_r.jpg', '10_02.jpg', '10_02_r.jpg', '10_02_x-flip.jpg', '10_02_x-flip_r.jpg', '11_01.jpg', '11_01_r.jpg', '11_01_y-flip.jpg', '11_01_y-flip_r.jpg', '11_02.jpg', '11_02_r.jpg', '11_02_y-flip.jpg', '11_02_y-flip_r.jpg', '11_03.jpg', '11_03_r.jpg', '11_03_y-flip.jpg', '11_03_y-flip_r.jpg', '11_04.jpg', '11_04_r.jpg', '11_04_y-flip.jpg', '11_04_y-flip_r.jpg', '11_05.jpg', '11_05_r.jpg', '11_05_y-flip.jpg', '11_05_y-flip_r.jpg', '11_06.jpg', '11_06_r.jpg', '11_06_y-flip.jpg', '11_06_y-flip_r.jpg', '11_07.jpg', '11_07_r.jpg', '11_07_y-flip.jpg', '11_07_y-flip_r.jpg', '12_01.jpg', '12_01_r.jpg', '12_01_x-flip.jpg', '12_01_x-flip_r.jpg', '13_01.jpg', '13_01_r.jpg', '13_01_y-flip.jpg', '13_01_y-flip_r.jpg', '13_02.jpg', '13_02_r.jpg', '13_02_y-flip.jpg', '13_02_y-flip_r.jpg', '13_03.jpg', '13_03_r.jpg', '13_03_y-flip.jpg', '13_03_y-flip_r.jpg', '13_04.jpg', '13_04_r.jpg', '13_04_y-flip.jpg', '13_04_y-flip_r.jpg', '14_01.jpg', '14_01_r.jpg', '14_01_y-flip.jpg', '14_01_y-flip_r.jpg', '14_02.jpg', '14_02_r.jpg', '14_02_y-flip.jpg', '14_02_y-flip_r.jpg', '14_03.jpg', '14_03_r.jpg', '14_03_y-flip.jpg', '14_03_y-flip_r.jpg', '14_04.jpg', '14_04_r.jpg', '14_04_y-flip.jpg', '14_04_y-flip_r.jpg']\n"
     ]
    }
   ],
   "source": [
    "# Check the contents of the extracted directory\n",
    "images_dir = os.path.join(extract_folder, 'images')  # Adjust the path to your images folder\n",
    "print(\"Contents of extracted images directory:\", os.listdir(images_dir))"
   ]
  },
  {
   "cell_type": "code",
   "execution_count": 14,
   "metadata": {},
   "outputs": [],
   "source": [
    "# Step 2: Create a function to generate the label dictionary\n",
    "def create_label_dict(images_dir):\n",
    "    label_dict = {}\n",
    "    for filename in os.listdir(images_dir):\n",
    "        #print(\"Processing file:\", filename)  # Debugging line\n",
    "        if filename.endswith(('.jpg', '.jpeg', '.png', '.bmp')):  # Check file extension\n",
    "            if '_r' in filename:\n",
    "                label_dict[filename] = 0  # No illusion\n",
    "            elif '_y-flip_r' in filename or '_x-flip_r' in filename:\n",
    "                label_dict[filename] = 0  # No illusion but flipped\n",
    "            elif filename.endswith('.jpg') and not ('_r' in filename or '_flip' in filename):\n",
    "                label_dict[filename] = 1  # Illusion\n",
    "            elif '_y-flip' in filename or '_x-flip' in filename:\n",
    "                label_dict[filename] = 1  # Flipped illusion\n",
    "            else:\n",
    "                print(f\"Unmatched condition for: {filename}\")  # Debugging unmatched files\n",
    "    return label_dict"
   ]
  },
  {
   "cell_type": "code",
   "execution_count": 16,
   "metadata": {},
   "outputs": [
    {
     "name": "stdout",
     "output_type": "stream",
     "text": [
      "Training data: 142\n",
      "Validation data: 31\n",
      "Testing data: 31\n"
     ]
    }
   ],
   "source": [
    "# Step 3: Generate the label dictionary\n",
    "label_dict = create_label_dict(images_dir)\n",
    "#print(\"Label dictionary created:\", label_dict)\n",
    "\n",
    "# Prepare data for training, validation, and testing\n",
    "data = [(filename, label) for filename, label in label_dict.items()]\n",
    "\n",
    "# Shuffle and split the dataset into training, validation, and test sets\n",
    "train_data, temp_data = train_test_split(data, test_size=0.3, random_state=31)  # 70% train, 30% temp\n",
    "val_data, test_data = train_test_split(temp_data, test_size=0.5, random_state=31)  # 15% val, 15% test\n",
    "\n",
    "# Output the sizes of the datasets\n",
    "print(\"Training data:\", len(train_data))\n",
    "print(\"Validation data:\", len(val_data))\n",
    "print(\"Testing data:\", len(test_data))\n"
   ]
  },
  {
   "cell_type": "code",
   "execution_count": 17,
   "metadata": {},
   "outputs": [
    {
     "name": "stdout",
     "output_type": "stream",
     "text": [
      "Found 142 validated image filenames belonging to 2 classes.\n",
      "Found 31 validated image filenames belonging to 2 classes.\n"
     ]
    },
    {
     "name": "stdout",
     "output_type": "stream",
     "text": [
      "Found 31 validated image filenames belonging to 2 classes.\n"
     ]
    }
   ],
   "source": [
    "# Step 4: Create data generators for training, validation, and testing\n",
    "def create_data_generator(data, images_dir, batch_size=32, target_size=(150, 150)):\n",
    "    filenames, labels = zip(*data)  # Unzip data\n",
    "    labels = list(map(str, labels))  # Convert labels to strings\n",
    "\n",
    "    datagen = ImageDataGenerator(rescale=1./255)\n",
    "    generator = datagen.flow_from_dataframe(\n",
    "        dataframe=pd.DataFrame({'filename': filenames, 'label': labels}),\n",
    "        directory=images_dir,\n",
    "        x_col='filename',\n",
    "        y_col='label',\n",
    "        target_size=target_size,\n",
    "        class_mode='binary',\n",
    "        batch_size=batch_size\n",
    "    )\n",
    "    return generator\n",
    "\n",
    "train_generator = create_data_generator(train_data, images_dir)\n",
    "val_generator = create_data_generator(val_data, images_dir)\n",
    "test_generator = create_data_generator(test_data, images_dir)"
   ]
  },
  {
   "cell_type": "code",
   "execution_count": 7,
   "metadata": {},
   "outputs": [],
   "source": [
    "# Calculate class weights\n",
    "from sklearn.utils import class_weight\n",
    "# Extract labels from the training data\n",
    "train_labels = [label for _, label in train_data]\n",
    "\n",
    "class_weights = class_weight.compute_class_weight('balanced', classes=np.unique(train_labels), y=train_labels)\n",
    "class_weights = dict(enumerate(class_weights))\n",
    "\n",
    "# Define Focal Loss\n",
    "class FocalLoss(BinaryCrossentropy):\n",
    "    def __init__(self, gamma=2, alpha=0.25, **kwargs):\n",
    "        super().__init__(**kwargs)\n",
    "        self.gamma = gamma\n",
    "        self.alpha = alpha\n",
    "\n",
    "    def call(self, y_true, y_pred):\n",
    "        y_true = tf.cast(y_true, tf.float32)\n",
    "        y_pred = tf.cast(y_pred, tf.float32)\n",
    "        bce = super().call(y_true, y_pred)\n",
    "        p_t = y_true * y_pred + (1 - y_true) * (1 - y_pred)\n",
    "        alpha_factor = y_true * self.alpha + (1 - y_true) * (1 - self.alpha)\n",
    "        modulating_factor = tf.pow((1 - p_t), self.gamma)\n",
    "        return alpha_factor * modulating_factor * bce\n"
   ]
  },
  {
   "cell_type": "code",
   "execution_count": 8,
   "metadata": {},
   "outputs": [],
   "source": [
    "# Step 5: Build a model using VGG16 with focal loss\n",
    "def create_vgg16_model():\n",
    "    base_model = VGG16(weights='imagenet', include_top=False, input_shape=(150, 150, 3))\n",
    "    \n",
    "    # Unfreeze the top layers of the model\n",
    "    for layer in base_model.layers[-4:]:\n",
    "        layer.trainable = True\n",
    "\n",
    "    model = Sequential([\n",
    "        base_model,\n",
    "        Flatten(),\n",
    "        Dense(128, activation='relu'),\n",
    "        Dropout(0.5),\n",
    "        Dense(1, activation='sigmoid')  # Binary classification\n",
    "    ])\n",
    "\n",
    "    model.compile(optimizer=Adam(learning_rate=1e-5), loss=FocalLoss(), metrics=['accuracy'])\n",
    "    return model\n",
    "\n",
    "model = create_vgg16_model()"
   ]
  },
  {
   "cell_type": "code",
   "execution_count": 9,
   "metadata": {},
   "outputs": [],
   "source": [
    "# Step 6: Build a model using InceptionV3\n",
    "def create_inceptionv3_model():\n",
    "    base_model = InceptionV3(weights='imagenet', include_top=False, input_shape=(150, 150, 3))\n",
    "    base_model.trainable = False  # Freeze the base model\n",
    "\n",
    "    model = Sequential([\n",
    "        base_model,\n",
    "        GlobalAveragePooling2D(),\n",
    "        Dense(128, activation='relu'),\n",
    "        Dropout(0.5),\n",
    "        Dense(1, activation='sigmoid')  # Binary classification\n",
    "    ])\n",
    "\n",
    "    model.compile(optimizer=Adam(), loss='binary_crossentropy', metrics=['accuracy'])\n",
    "    return model\n",
    "\n",
    "model = create_inceptionv3_model()\n",
    "\n"
   ]
  },
  {
   "cell_type": "code",
   "execution_count": 18,
   "metadata": {},
   "outputs": [
    {
     "name": "stdout",
     "output_type": "stream",
     "text": [
      "Epoch 1/10\n",
      "5/5 [==============================] - 27s 6s/step - loss: 0.0734 - accuracy: 0.6268 - val_loss: 0.0502 - val_accuracy: 0.5484\n",
      "Epoch 2/10\n",
      "5/5 [==============================] - 26s 5s/step - loss: 0.0457 - accuracy: 0.6972 - val_loss: 0.0341 - val_accuracy: 0.7419\n",
      "Epoch 3/10\n",
      "5/5 [==============================] - 24s 5s/step - loss: 0.0265 - accuracy: 0.7958 - val_loss: 0.0275 - val_accuracy: 0.7742\n",
      "Epoch 4/10\n",
      "5/5 [==============================] - 26s 5s/step - loss: 0.0239 - accuracy: 0.7535 - val_loss: 0.0245 - val_accuracy: 0.7419\n",
      "Epoch 5/10\n",
      "5/5 [==============================] - 25s 5s/step - loss: 0.0134 - accuracy: 0.8451 - val_loss: 0.0224 - val_accuracy: 0.7419\n",
      "Epoch 6/10\n",
      "5/5 [==============================] - 24s 5s/step - loss: 0.0068 - accuracy: 0.9437 - val_loss: 0.0209 - val_accuracy: 0.7419\n",
      "Epoch 7/10\n",
      "5/5 [==============================] - 25s 5s/step - loss: 0.0062 - accuracy: 0.9155 - val_loss: 0.0199 - val_accuracy: 0.7742\n",
      "Epoch 8/10\n",
      "5/5 [==============================] - 25s 5s/step - loss: 0.0055 - accuracy: 0.9014 - val_loss: 0.0185 - val_accuracy: 0.8065\n",
      "Epoch 9/10\n",
      "5/5 [==============================] - 24s 5s/step - loss: 0.0023 - accuracy: 0.9507 - val_loss: 0.0169 - val_accuracy: 0.8387\n",
      "Epoch 10/10\n",
      "5/5 [==============================] - 24s 5s/step - loss: 0.0030 - accuracy: 0.9296 - val_loss: 0.0156 - val_accuracy: 0.8710\n",
      "1/1 [==============================] - 2s 2s/step - loss: 0.0039 - accuracy: 0.9355\n",
      "WARNING:tensorflow:5 out of the last 5 calls to <function Model.make_predict_function.<locals>.predict_function at 0x0000017D54D315A0> triggered tf.function retracing. Tracing is expensive and the excessive number of tracings could be due to (1) creating @tf.function repeatedly in a loop, (2) passing tensors with different shapes, (3) passing Python objects instead of tensors. For (1), please define your @tf.function outside of the loop. For (2), @tf.function has reduce_retracing=True option that can avoid unnecessary retracing. For (3), please refer to https://www.tensorflow.org/guide/function#controlling_retracing and https://www.tensorflow.org/api_docs/python/tf/function for  more details.\n",
      "1/1 [==============================] - 1s 882ms/step\n",
      "Epoch 1/10\n",
      "5/5 [==============================] - 13s 2s/step - loss: 1.4488 - accuracy: 0.4789 - val_loss: 0.6551 - val_accuracy: 0.6774\n",
      "Epoch 2/10\n",
      "5/5 [==============================] - 7s 2s/step - loss: 0.5907 - accuracy: 0.6972 - val_loss: 0.5241 - val_accuracy: 0.8387\n",
      "Epoch 3/10\n",
      "5/5 [==============================] - 7s 2s/step - loss: 0.4183 - accuracy: 0.7958 - val_loss: 0.5909 - val_accuracy: 0.8065\n",
      "Epoch 4/10\n",
      "5/5 [==============================] - 7s 2s/step - loss: 0.3404 - accuracy: 0.8732 - val_loss: 0.3568 - val_accuracy: 0.9032\n",
      "Epoch 5/10\n",
      "5/5 [==============================] - 7s 1s/step - loss: 0.2539 - accuracy: 0.9085 - val_loss: 0.4413 - val_accuracy: 0.9032\n",
      "Epoch 6/10\n",
      "5/5 [==============================] - 6s 1s/step - loss: 0.1702 - accuracy: 0.9648 - val_loss: 0.4705 - val_accuracy: 0.9032\n",
      "Epoch 7/10\n",
      "5/5 [==============================] - 6s 1s/step - loss: 0.1203 - accuracy: 0.9930 - val_loss: 0.4594 - val_accuracy: 0.9032\n",
      "Epoch 8/10\n",
      "5/5 [==============================] - 6s 1s/step - loss: 0.0989 - accuracy: 0.9930 - val_loss: 0.4424 - val_accuracy: 0.9032\n",
      "Epoch 9/10\n",
      "5/5 [==============================] - 7s 2s/step - loss: 0.0914 - accuracy: 0.9789 - val_loss: 0.5444 - val_accuracy: 0.9032\n",
      "Epoch 10/10\n",
      "5/5 [==============================] - 7s 1s/step - loss: 0.0692 - accuracy: 0.9930 - val_loss: 0.5165 - val_accuracy: 0.9032\n",
      "1/1 [==============================] - 1s 1s/step - loss: 0.1238 - accuracy: 0.9677\n",
      "WARNING:tensorflow:6 out of the last 6 calls to <function Model.make_predict_function.<locals>.predict_function at 0x0000017D47907250> triggered tf.function retracing. Tracing is expensive and the excessive number of tracings could be due to (1) creating @tf.function repeatedly in a loop, (2) passing tensors with different shapes, (3) passing Python objects instead of tensors. For (1), please define your @tf.function outside of the loop. For (2), @tf.function has reduce_retracing=True option that can avoid unnecessary retracing. For (3), please refer to https://www.tensorflow.org/guide/function#controlling_retracing and https://www.tensorflow.org/api_docs/python/tf/function for  more details.\n",
      "1/1 [==============================] - 1s 1s/step\n",
      "Results for VGG16:\n",
      "Confusion Matrix:\n",
      "[[14  0]\n",
      " [ 2 15]]\n",
      "Classification Report:\n",
      "{'No Illusion': {'precision': 0.875, 'recall': 1.0, 'f1-score': 0.9333333333333333, 'support': 14}, 'Illusion': {'precision': 1.0, 'recall': 0.8823529411764706, 'f1-score': 0.9375, 'support': 17}, 'accuracy': 0.9354838709677419, 'macro avg': {'precision': 0.9375, 'recall': 0.9411764705882353, 'f1-score': 0.9354166666666667, 'support': 31}, 'weighted avg': {'precision': 0.9435483870967742, 'recall': 0.9354838709677419, 'f1-score': 0.9356182795698925, 'support': 31}}\n",
      "Accuracy:\n",
      "0.9354838728904724\n",
      "\n",
      "\n",
      "Results for InceptionV3:\n",
      "Confusion Matrix:\n",
      "[[13  1]\n",
      " [ 0 17]]\n",
      "Classification Report:\n",
      "{'No Illusion': {'precision': 1.0, 'recall': 0.9285714285714286, 'f1-score': 0.962962962962963, 'support': 14}, 'Illusion': {'precision': 0.9444444444444444, 'recall': 1.0, 'f1-score': 0.9714285714285714, 'support': 17}, 'accuracy': 0.967741935483871, 'macro avg': {'precision': 0.9722222222222222, 'recall': 0.9642857142857143, 'f1-score': 0.9671957671957672, 'support': 31}, 'weighted avg': {'precision': 0.9695340501792115, 'recall': 0.967741935483871, 'f1-score': 0.9676053934118449, 'support': 31}}\n",
      "Accuracy:\n",
      "0.9677419066429138\n",
      "\n",
      "\n"
     ]
    }
   ],
   "source": [
    "# Step 7: Run the model and estimate the metrics\n",
    "\n",
    "from sklearn.metrics import confusion_matrix, classification_report\n",
    "models = {\n",
    "    'VGG16': create_vgg16_model(),\n",
    "    'InceptionV3': create_inceptionv3_model()\n",
    "}\n",
    "results = {}\n",
    "for model_name, model in models.items():\n",
    "        model.fit(train_generator, validation_data=val_generator, epochs=10, class_weight=class_weights)\n",
    "        test_loss, test_accuracy = model.evaluate(test_generator)\n",
    "        test_images, test_labels = next(test_generator)\n",
    "        predictions = model.predict(test_images)\n",
    "        predicted_classes = ['Illusion' if pred > 0.5 else 'No Illusion' for pred in predictions]\n",
    "        predicted_labels = [1 if label == 'Illusion' else 0 for label in predicted_classes]\n",
    "\n",
    "        # Ensure test_labels are in the correct format (binary: 0 or 1)\n",
    "        test_labels = test_labels.astype(int)\n",
    "\n",
    "        # Calculate the confusion matrix\n",
    "        conf_matrix = confusion_matrix(test_labels, predicted_labels)\n",
    "        # Print a classification report for more detailed metrics\n",
    "        classification_rep = classification_report(test_labels, predicted_labels, target_names=[\"No Illusion\", \"Illusion\"], output_dict=True)\n",
    "         \n",
    "         # Store the results\n",
    "        results[model_name] = {\n",
    "            'conf_matrix': conf_matrix,\n",
    "            'classification_report': classification_rep,\n",
    "            'test_accuracy': test_accuracy\n",
    "            }\n",
    "\n",
    "for model_name, result in results.items():\n",
    "    print(f\"Results for {model_name}:\")\n",
    "    print(\"Confusion Matrix:\")\n",
    "    print(result['conf_matrix'])\n",
    "    print(\"Classification Report:\")\n",
    "    print(result['classification_report'])\n",
    "    print(\"Accuracy:\")\n",
    "    print(result['test_accuracy'])\n",
    "    print(\"\\n\")  \n"
   ]
  },
  {
   "cell_type": "code",
   "execution_count": 19,
   "metadata": {},
   "outputs": [
    {
     "data": {
      "image/png": "[encoded data removed]",
      "text/plain": [
       "<Figure size 600x600 with 2 Axes>"
      ]
     },
     "metadata": {},
     "output_type": "display_data"
    },
    {
     "data": {
      "image/png": "[encoded data removed]",
      "text/plain": [
       "<Figure size 600x600 with 2 Axes>"
      ]
     },
     "metadata": {},
     "output_type": "display_data"
    }
   ],
   "source": [
    "cm_vgg16 = results['VGG16']['conf_matrix']\n",
    "cm_inception = results['InceptionV3']['conf_matrix']\n",
    "import seaborn as sns\n",
    "\n",
    "\n",
    "def plot_confusion_matrix(cm, model_name, cmap):\n",
    "    plt.figure(figsize=(6, 6))\n",
    "    sns.heatmap(cm, annot=True, fmt=\"d\", cmap=cmap, xticklabels=[\"No Illusion\", \"Illusion\"], yticklabels=[\"No Illusion\", \"Illusion\"])\n",
    "    plt.title(f\"Confusion Matrix - {model_name}\")\n",
    "    plt.xlabel(\"Predicted\")\n",
    "    plt.ylabel(\"Actual\")\n",
    "    plt.show()\n",
    "plot_confusion_matrix(cm_vgg16, \"VGG16\", cmap=\"Blues\")\n",
    "plot_confusion_matrix(cm_inception, \"InceptionV3\", cmap=\"Greens\")\n"
   ]
  },
  {
   "cell_type": "code",
   "execution_count": 12,
   "metadata": {},
   "outputs": [
    {
     "data": {
      "image/png": "[encoded data removed]",
      "text/plain": [
       "<Figure size 640x480 with 1 Axes>"
      ]
     },
     "metadata": {},
     "output_type": "display_data"
    }
   ],
   "source": [
    "import numpy as np\n",
    "import matplotlib.pyplot as plt\n",
    "from sklearn.metrics import classification_report\n",
    "\n",
    "\n",
    "# Extract precision and recall for illusion and no-illusion classes for both models\n",
    "precision_illusion_1 = 1.0\n",
    "precision_no_illusion_1 = 0.875\n",
    "recall_illusion_1 = 0.88\n",
    "recall_no_illusion_1 = 1.0\n",
    "\n",
    "precision_illusion_2 = 0.944\n",
    "precision_no_illusion_2 = 1.0\n",
    "recall_illusion_2 = 1.0\n",
    "recall_no_illusion_2 = 0.928\n",
    "\n",
    "precision_illusion_3 = 0.87\n",
    "precision_no_illusion_3 = 0.75\n",
    "recall_illusion_3 = 0.76\n",
    "recall_no_illusion_3 = 0.86\n",
    "\n",
    "# Bar chart for precision and recall for both models\n",
    "labels = ['Illusion', 'No Illusion']\n",
    "precision_model_1 = [precision_illusion_1, precision_no_illusion_1]\n",
    "recall_model_1 = [recall_illusion_1, recall_no_illusion_1]\n",
    "precision_model_2 = [precision_illusion_2, precision_no_illusion_2]\n",
    "recall_model_2 = [recall_illusion_2, recall_no_illusion_2]\n",
    "precision_model_3 = [precision_illusion_3, precision_no_illusion_3]\n",
    "recall_model_3 = [recall_illusion_3, recall_no_illusion_3]\n",
    "\n",
    "\n",
    "\n",
    "x = np.arange(len(labels))  # The label locations\n",
    "width = 0.2  # The width of the bars\n",
    "\n",
    "fig, ax = plt.subplots()\n",
    "\n",
    "# Create bars for precision and recall for both models\n",
    "#bars1_precision = ax.bar(x - width/2, precision_model_1, width, label='VGG16', color='blue')\n",
    "bars1_recall = ax.bar(x - width/2, recall_model_1, width, label='VGG16', color='blue')\n",
    "#bars2_precision = ax.bar(x + width/2, precision_model_2, width, label='InceptionV3', color='lightgreen')\n",
    "bars2_recall = ax.bar(x + width/2, recall_model_2, width, label='InceptionV3', color='lightgreen')\n",
    "#bars3_precision = ax.bar(x + 0.3, precision_model_3, width, label='FCN', color='Red')\n",
    "bars3_recall = ax.bar(x + 0.3, recall_model_3, width, label='FCN', color='Red')\n",
    "\n",
    "# Add some text for labels, title and custom x-axis tick labels\n",
    "ax.set_xlabel('Class')\n",
    "ax.set_ylabel('Scores')\n",
    "ax.set_title('Recall for Illusion and No Illusion (Model Comparison)')\n",
    "ax.set_xticks(x)\n",
    "ax.set_xticklabels(labels)\n",
    "ax.legend()\n",
    "ax.tick_params(axis='both',direction = 'in',which='both')\n",
    "ax.tick_params(axis='both',which='major',length=5, width=1)\n",
    "ax.tick_params(axis='both',which='minor',length=2.5)\n",
    "plt.rcParams[\"axes.edgecolor\"] = \"black\"\n",
    "plt.rcParams[\"axes.linewidth\"] = 1.5\n",
    "ax.legend(fontsize = 9.5, loc =\"upper center\")\n",
    "\n",
    "# Display the plot\n",
    "plt.show()\n"
   ]
  }
 ],
 "metadata": {
  "kernelspec": {
   "display_name": "base",
   "language": "python",
   "name": "python3"
  },
  "language_info": {
   "codemirror_mode": {
    "name": "ipython",
    "version": 3
   },
   "file_extension": ".py",
   "mimetype": "text/x-python",
   "name": "python",
   "nbconvert_exporter": "python",
   "pygments_lexer": "ipython3",
   "version": "3.10.9"
  }
 },
 "nbformat": 4,
 "nbformat_minor": 2
}
